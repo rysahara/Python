{
 "cells": [
  {
   "cell_type": "code",
   "execution_count": 168,
   "metadata": {},
   "outputs": [],
   "source": [
    "#importando bibliotecas\n",
    "import time\n",
    "import requests\n",
    "import pandas as pd\n",
    "from bs4 import BeautifulSoup\n",
    "from selenium import webdriver\n",
    "from selenium.webdriver.common.by import By\n",
    "from selenium.webdriver.common.keys import Keys\n",
    "from webdriver_manager.chrome import ChromeDriverManager\n",
    "from selenium.common.exceptions import NoSuchElementException    \n",
    "import json\n"
   ]
  },
  {
   "cell_type": "code",
   "execution_count": 169,
   "metadata": {},
   "outputs": [
    {
     "name": "stderr",
     "output_type": "stream",
     "text": [
      "[WDM] - Current google-chrome version is 86.0.4240\n",
      "[WDM] - Get LATEST driver version for 86.0.4240\n"
     ]
    },
    {
     "name": "stdout",
     "output_type": "stream",
     "text": [
      " \n"
     ]
    },
    {
     "name": "stderr",
     "output_type": "stream",
     "text": [
      "[WDM] - Get LATEST driver version for 86.0.4240\n",
      "[WDM] - Trying to download new driver from http://chromedriver.storage.googleapis.com/86.0.4240.22/chromedriver_win32.zip\n",
      "[WDM] - Driver has been saved in cache [C:\\Users\\rysah\\.wdm\\drivers\\chromedriver\\win32\\86.0.4240.22]\n"
     ]
    }
   ],
   "source": [
    "#definindo a url\n",
    "url = 'http://www1.dnit.gov.br/editais/consulta/editais2.asp'\n",
    "driver = webdriver.Chrome(ChromeDriverManager().install())\n",
    "driver.get(url)\n",
    "time.sleep(5)"
   ]
  },
  {
   "cell_type": "code",
   "execution_count": 170,
   "metadata": {},
   "outputs": [],
   "source": [
    "#clica para mostrar todas as linhas\n",
    "popup = driver.find_element_by_xpath(\"//div[@class='dataTables_length']//label//select[@name='tabela_length']//option[text()='Todos']\").click()\n",
    "time.sleep(20)"
   ]
  },
  {
   "cell_type": "code",
   "execution_count": 171,
   "metadata": {},
   "outputs": [],
   "source": [
    "#seleciono pela tag table com seu id\n",
    "element = driver.find_element_by_xpath(\"//div[@class='dataTables_wrapper']//table[@id='tabela']\")\n",
    "html_content = element.get_attribute('outerHTML')"
   ]
  },
  {
   "cell_type": "code",
   "execution_count": 184,
   "metadata": {},
   "outputs": [],
   "source": [
    "#analisa o documento\n",
    "soup = BeautifulSoup(html_content,'html.parser')\n",
    "parsed_table =soup.find(name='table')\n",
    "#nessa parte faço um for para poder pegar o valor do href e concateno com o inicio da url\n",
    "data = [['http://www1.dnit.gov.br/editais/consulta/' + td.a['href'] if td.find('a') else \n",
    "             ''.join(td.stripped_strings)\n",
    "             for td in row.find_all('td')]\n",
    "            for row in parsed_table.find_all('tr')]\n",
    "#Seleciono as informações que eu preciso\n",
    "df = pd.DataFrame(data[2:],columns=data[7])\n",
    "#defino o nome das colunas\n",
    "df.columns = [ 'SUP_Regional', 'Modalidade', 'Status','Numero','Data_da_Abertura','Objeto','Detalhes']"
   ]
  },
  {
   "cell_type": "code",
   "execution_count": 185,
   "metadata": {},
   "outputs": [],
   "source": [
    "#crio algumas listas para poder pegar dados de uma outra pagina (do link gerado no for anterior)\n",
    "listProcesso=[]\n",
    "listModalidade=[]\n",
    "listJulgamento=[]\n",
    "listValor=[]\n",
    "listDataBase=[]\n",
    "for row in df.itertuples():\n",
    "    try:         \n",
    "        #abro o link para poder pegar os dados da pagina\n",
    "        urlLink = row.Detalhes\n",
    "        driver.get(urlLink)            \n",
    "        elementLink = driver.find_element_by_xpath(\"//div[@class='panel-body']\")\n",
    "        html_contentLink = elementLink.get_attribute('outerHTML')\n",
    "        soupLink = BeautifulSoup(html_contentLink,'html.parser')\n",
    "        #loop para poder pegar todas as tag p dentro da class\n",
    "        for review in soupLink.find_all(\"div\",class_=\"panel-body\"):\n",
    "            listProcesso.append(review.find_all('p')[1].getText())\n",
    "            listModalidade.append(review.find_all('p')[5].getText())\n",
    "            listJulgamento.append(review.find_all('p')[7].getText())\n",
    "            listValor.append(review.find_all('p')[9].getText())\n",
    "            listDataBase.append(review.find_all('p')[11].getText())\n",
    "    except NoSuchElementException as error: \n",
    "        #caso tenha algum erro no link, preencho o valor com vazio, para garantir que as listas tenham o mesmo tamanho do dataframe\n",
    "        listProcesso.append(\"\")\n",
    "        listModalidade.append(\"\")\n",
    "        listJulgamento.append(\"\")\n",
    "        listValor.append(\"\")\n",
    "        listDataBase.append(\"\")\n",
    "        continue\n",
    "#insiro as colunas no dataframe, para poder preencher com o restante das informações    \n",
    "df.insert(7,\"Processo\",listProcesso,True)\n",
    "df.insert(8,\"Modalidade\",listModalidade,True)\n",
    "df.insert(9,\"Julgamento\",listJulgamento,True)\n",
    "df.insert(10,\"Valor_Global\",listValor,True)\n",
    "df.insert(11,\"DataBase\",listDataBase,True)\n"
   ]
  },
  {
   "cell_type": "code",
   "execution_count": 186,
   "metadata": {},
   "outputs": [
    {
     "name": "stderr",
     "output_type": "stream",
     "text": [
      "C:\\Program Files (x86)\\Microsoft Visual Studio\\Shared\\Anaconda3_64\\lib\\site-packages\\ipykernel_launcher.py:3: UserWarning: DataFrame columns are not unique, some columns will be omitted.\n",
      "  This is separate from the ipykernel package so we can avoid doing imports until\n"
     ]
    }
   ],
   "source": [
    "#Ler os dados e salva em um arquivo json\n",
    "with open('dnitTotal.json', 'w', encoding='utf-8') as jp:\n",
    "    js = json.dumps(df.to_dict('records'))\n",
    "    jp.write(js)"
   ]
  },
  {
   "cell_type": "code",
   "execution_count": 187,
   "metadata": {},
   "outputs": [],
   "source": [
    "#gerando um excel com as informações obtidas\n",
    "df.to_excel('DNITTotal.xlsx', engine='xlsxwriter') "
   ]
  }
 ],
 "metadata": {
  "kernelspec": {
   "display_name": "Python 3",
   "language": "python",
   "name": "python3"
  },
  "language_info": {
   "codemirror_mode": {
    "name": "ipython",
    "version": 3
   },
   "file_extension": ".py",
   "mimetype": "text/x-python",
   "name": "python",
   "nbconvert_exporter": "python",
   "pygments_lexer": "ipython3",
   "version": "3.6.5"
  }
 },
 "nbformat": 4,
 "nbformat_minor": 2
}
